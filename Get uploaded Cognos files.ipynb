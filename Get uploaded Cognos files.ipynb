{
 "cells": [
  {
   "attachments": {},
   "cell_type": "markdown",
   "metadata": {},
   "source": [
    "# Cognos Analytics REST API - Get files\n",
    "## References\n",
    "* [Session objects](https://requests.readthedocs.io/en/latest/user/advanced/#session-objects)\n",
    "* [Getting started with the REST API](https://www.ibm.com/docs/en/cognos-analytics/12.0.0?topic=api-getting-started-rest) - Cognos Analytics Docs\n",
    "* [REST sample](https://www.ibm.com/docs/en/cognos-analytics/12.0.0?topic=api-rest-sample) - Cognos Analytics Docs\n",
    "\n",
    "## Install required packages\n",
    "!pip install requests"
   ]
  },
  {
   "cell_type": "code",
   "execution_count": 1,
   "metadata": {},
   "outputs": [],
   "source": [
    "import json\n",
    "import requests"
   ]
  },
  {
   "cell_type": "code",
   "execution_count": 2,
   "metadata": {},
   "outputs": [],
   "source": [
    "api_url = 'http://eu-de.techzone-services.com:21298/api/v1'"
   ]
  },
  {
   "attachments": {},
   "cell_type": "markdown",
   "metadata": {},
   "source": [
    "Install required "
   ]
  },
  {
   "cell_type": "code",
   "execution_count": 3,
   "metadata": {},
   "outputs": [],
   "source": [
    "payload = json.dumps({\n",
    "\t\"parameters\":\n",
    "\t[\n",
    "\t\t{\n",
    "\t\t\t\"name\": \"CAMNamespace\",\n",
    "\t\t\t\"value\": \"Harmony LDAP\"\n",
    "\t\t},\n",
    "\t\t{\n",
    "\t\t\t\"name\": \"CAMUsername\",\n",
    "\t\t\t\"value\": \"Administrator\"\n",
    "\t\t},\n",
    "\t\t{\n",
    "\t\t\t\"name\": \"CAMPassword\",\n",
    "\t\t\t\"value\": \"IBMDem0s\"\n",
    "\t\t}\n",
    "\t]})\n",
    "\n",
    "headers = {'Content-Type': 'application/json'}\n",
    "\n",
    "# Persist cookies accross sessions\n",
    "session = requests.Session()\n",
    "response = session.put(f'{api_url}/session', data=payload, headers=headers )\n"
   ]
  },
  {
   "cell_type": "code",
   "execution_count": 4,
   "metadata": {},
   "outputs": [
    {
     "data": {
      "text/plain": [
       "['userCapabilitiesEx',\n",
       " 'userCapabilities',\n",
       " 'cea-ssa',\n",
       " 'CRN',\n",
       " 'cam_passport',\n",
       " 'usersessionid',\n",
       " 'up']"
      ]
     },
     "execution_count": 4,
     "metadata": {},
     "output_type": "execute_result"
    }
   ],
   "source": [
    "session.cookies.keys()"
   ]
  },
  {
   "cell_type": "code",
   "execution_count": 5,
   "metadata": {},
   "outputs": [
    {
     "name": "stdout",
     "output_type": "stream",
     "text": [
      "CAM MTsxMDE6ZDA5N2Q5YTktZGY1ZC05NDUyLWE4MTQtNTM0YmM5ZTY4YTMxOjI1OTI0MDYxMDY7MDszOzA7\n"
     ]
    }
   ],
   "source": [
    "print(json.loads(response.text)[\"session_key\"])"
   ]
  },
  {
   "cell_type": "code",
   "execution_count": 6,
   "metadata": {},
   "outputs": [],
   "source": [
    "response = session.get(f'{api_url}/session')"
   ]
  },
  {
   "cell_type": "code",
   "execution_count": 7,
   "metadata": {},
   "outputs": [
    {
     "data": {
      "text/plain": [
       "['userCapabilitiesEx',\n",
       " 'userCapabilities',\n",
       " 'cea-ssa',\n",
       " 'CRN',\n",
       " 'XSRF-TOKEN',\n",
       " 'cam_passport',\n",
       " 'usersessionid',\n",
       " 'up']"
      ]
     },
     "execution_count": 7,
     "metadata": {},
     "output_type": "execute_result"
    }
   ],
   "source": [
    "session.cookies.keys()"
   ]
  },
  {
   "cell_type": "code",
   "execution_count": 8,
   "metadata": {},
   "outputs": [
    {
     "name": "stdout",
     "output_type": "stream",
     "text": [
      "403\n",
      "Forbidden\n",
      "Forbidden\n"
     ]
    }
   ],
   "source": [
    "print(response.status_code)\n",
    "print(response.text)\n",
    "print(response.reason)"
   ]
  },
  {
   "cell_type": "code",
   "execution_count": 9,
   "metadata": {},
   "outputs": [],
   "source": [
    "# Save required cookie or print an error message\n",
    "session.headers['X-XSRF-Token'] = session.cookies.get('XSRF-TOKEN')"
   ]
  },
  {
   "cell_type": "code",
   "execution_count": 11,
   "metadata": {},
   "outputs": [
    {
     "data": {
      "text/plain": [
       "['userCapabilitiesEx',\n",
       " 'userCapabilities',\n",
       " 'cea-ssa',\n",
       " 'CRN',\n",
       " 'XSRF-TOKEN',\n",
       " 'cam_passport',\n",
       " 'usersessionid',\n",
       " 'up']"
      ]
     },
     "execution_count": 11,
     "metadata": {},
     "output_type": "execute_result"
    }
   ],
   "source": [
    "session.cookies.keys()"
   ]
  },
  {
   "attachments": {},
   "cell_type": "markdown",
   "metadata": {},
   "source": [
    "## Get list of imported files"
   ]
  },
  {
   "cell_type": "code",
   "execution_count": 23,
   "metadata": {},
   "outputs": [
    {
     "name": "stdout",
     "output_type": "stream",
     "text": [
      "200\n",
      "OK\n"
     ]
    }
   ],
   "source": [
    "response = session.get(f'{api_url}/files', cookies=session.cookies)\n",
    "print(response.status_code)\n",
    "print(response.reason)\n",
    "#print(response.text)"
   ]
  },
  {
   "cell_type": "code",
   "execution_count": 22,
   "metadata": {},
   "outputs": [
    {
     "name": "stdout",
     "output_type": "stream",
     "text": [
      "288 files found.\n",
      "iC692773A59B44B81A9DD283D097D8F58: American_time_use.xlsx\n",
      "i1708D938FA664249A18A831452D86D6B: Banking_loss_events.xlsx\n",
      "i9A6F76DA53C84808AEE277EBA2CDCEBB: Boston_311_calls.xlsx\n",
      "iEA822861595046749F1AB3CB8BC0DF7B: SampleFile_GOSales.xls\n",
      "iB6AC783E798043B49DEE6F22E5F3FC73: Customer_analysis.csv\n",
      "i9016B4E2D9DB47AFA4E44858A99B2CC3: Sample_Extensions_Data.xls\n",
      "i3097A11B947C47AABCE51F2A46645BD0: Storm_events_2015_data.xlsx\n",
      "i177DAB598C4E411E99246B507D1D4865: Weather_analytics.xlsx\n",
      "i387ED1315A004A7C81C5A7764BEF5F09: California Zip Website Visits.xlsx\n",
      "i69EF6CAF8E9D430C9551BB27A1E4E32C: NYPD_Motor_Vehicle_Collisions_2015-2017.xlsx\n",
      "i0A3D25DF18234264BF4806F458F441AF: Sales_Staff.xlsx\n",
      "iA40D539833E24D3490C3FD0DEBD159E2: Customer_analysis_targets.xlsx\n",
      "i0397A3D0F845419E9A57493072DDEFED: Customer_analysis_policyholders.xlsx\n",
      "i3E2B74B8139F487697622AFF90511313: Customer_analysis_renewals.xlsx\n",
      "i6C8BD2CF3B8345F4A1CE98BF9B1853C4: Customer_analysis_offers.xlsx\n",
      "iD22727D7E26C4B6495B1DAFBE3499C23: Telco_customer_churn.xlsx\n",
      "i304B0E2BE4ED41518C27EF35F28E5C83: Boston_311_requests.xlsx\n",
      "i5C332A2E52F34351A8D727AE87CEAF03: retailCalendar_454_2016_2022.csv\n",
      "iD105B6C96DAA49EC976053094555BFC8: Accounts Receivable Data\n",
      "i9252FF2C5C07487C8966C323D1B78B4C: HR Workforce Gold Multi-table Import.xlsx\n",
      "iE1315E104DAB490E9BC95240A6727550: HR Workforce Gold Dataset.xlsx\n",
      "i4C6F6FB4AA9C4B3A8C7E1D229C816262: Showcase Regions Data.xlsx\n",
      "iEB5E18E847EF4AD698D2BADFC5B1FCD6: DigitalAnalytics.csv\n",
      "iF9B5587C3C744B7CB8BEB790547DA53A: K12_record.csv\n",
      "iE8C3DDBC28AB4CF081CD9E81BCC06761: bad_sentiments.xlsx\n",
      "i8802A971189D40079B9030DCB63F047F: Technology_type.csv\n",
      "i31759C1D00FB4A52998FE39DC0E8A0E9: Technology_supply_score.csv\n",
      "iBC1FF6070A6C484F8C2758D319BBEB17: Boston_311_calls.xlsx\n",
      "i4C16BBE97EC746B5A3AAEAD69E21E11C: Banking_loss_events.xlsx\n",
      "i6E85346B5E594E549D855CA24F92C96A: American_time_use.xlsx\n",
      "iE40FE20BAD354C499E4219EEC1389941: Boston_311_requests.xlsx\n",
      "i283357C28928493DA786B4B705F9EEA1: Customer_analysis.csv\n",
      "i749B2DEAC8E74D44BFFA841192ADDCB2: Sample_Extensions_Data.xls\n",
      "i71EAF1311F2F4C70B384F183135B325E: Storm_events_2015_data.xlsx\n",
      "i74D1E897FC9C49A092BD2F5A5ED04B9C: Weather_analytics.xlsx\n",
      "iC64002B8ACDB413EA2AF119A89F39AC4: California Zip Website Visits.xlsx\n",
      "iFB1A23EEA04645E98E1DA196991D9E06: NYPD_Motor_Vehicle_Collisions_2015-2017.xlsx\n",
      "iA777033941D34B91B7F57AD8177AA891: Customer_analysis_targets.xlsx\n",
      "i0C7D7D6E04B240FBBA77F1555E39EF81: Customer_analysis_policyholders.xlsx\n",
      "i477F171E6EBE47C0AAA9B3B69224E161: Customer_analysis_renewals.xlsx\n",
      "iA54BEB0ECF0F46A0A56DDD34515C64FC: Customer_analysis_offers.xlsx\n",
      "i49180BB092D74A22B5177917DC177819: SampleFile_GOSales.xls\n",
      "i37CB729698574EF7B18594103DB149DA: Sales_Staff.xlsx\n",
      "iAF4834A6F9C7404FB5A35E409A0468FF: GO sales CY and PY.xlsx\n",
      "i51631B0779024700B7511BA2498D2B30: Branches.xlsx\n",
      "iEBF061CA347F4A868585E15E14A0180B: GO sales by year and month.xlsx\n",
      "iAF649DC1BF77448995CF2920ADFBEF8C: Products.xlsx\n",
      "i2DEBE68672D343AC8C17A72CA4E1C067: Returns.xlsx\n",
      "i9DFCE6E22208493884D9394BC07E49DD: Retailers.xlsx\n",
      "iA093861D4D864761A772B94CC2D388FC: Sales.xlsx\n",
      "i626A754F5CEF4637964A15C94A83D0F5: Order_methods.xlsx\n",
      "iE7D093089BD8431F868B24AADB5D1429: Sales_representatives.xlsx\n",
      "iD453FF16C13D492C9B374B37738B1F84: Car_Recalls.xlsx\n",
      "i498E82BB62464C3097A5244CAE38E8A2: dealers.xlsx\n",
      "i7FE935B3EDB0424C83F7807C5C6AE41B: sentiment.csv\n",
      "i4BB8E41C844B42D8AF3322872EB7E3A5: FiscalCalendarJanuary1.csv\n",
      "iCDF7455AFC6F4E469B09CF6B4BAAB9D3: sales_by_model.xlsx\n",
      "iD984CBAE3451416F99F3A1FA2C3B5BDF: classes_2017.csv\n",
      "i881AB8D5136D43418ABCE11DD2ABE5A0: Enrollment.xlsx\n",
      "iB93584BE36EA4B98A602BF015CEFDD90: KPI Attendance.xlsx\n",
      "i0703580F897949039B55504FBE38CA83: KPI Enrollment.xlsx\n",
      "i427F045814174D889FAE350DCA529829: KPI_data.xlsx\n",
      "iE9EEFA8516ED4966B31D0DDC1AC05EE5: KPI_teacher.xlsx\n",
      "i58BB35715E9A47DAA4AF9D2478798882: Staff.csv\n",
      "iFD812392CE8A413FA99EA4B90AC4EB95: Class_roster.csv\n",
      "iA5343715C3A0485B8B69F8401497924E: Student_absenses.csv\n",
      "iE349668C2F864E1AA44FA02AB6247664: Courses.csv\n",
      "iB361B47122EA42BC9FBE6AAA4A83AD58: Schools.csv\n",
      "iA783B7E5378D44D898E7A6CE4905D2DA: Role.csv\n",
      "iFEBDAA1EC6A14430B44D81FB8D61BCCA: Final_grades.csv\n",
      "i736A1CBA46B4481F92DC6B0263C09C50: Demographics.csv\n",
      "i8823B90252C145D5A39CF963CEFE37DD: Students.csv\n",
      "iB32820BB77924D1FA689FBBDDF60C0D6: Hospital_Admissions.xlsx\n",
      "i5CFB63084FDC47B09A1F04726F6737EB: Incentive Compensation Management Conduct Risk.xlsx\n",
      "i9B98D38F0C844876AE305D9B449A3F7D: April19_report.xlsx\n",
      "i3894D7746B8E444D9D308DA3DEC76E57: car_models.xlsx\n",
      "i32FEDC40DDCE4C1BA4A0C5A8FFE4216B: Retailer_type.xlsx\n",
      "iC5D5D82CAFBB4EDD9A868C0F37B9CF4B: Machine Events.xlsx\n",
      "i9EDBAAB755C14A4FB9FF7F415496C9CA: Machine States.xlsx\n",
      "iBB7EAD516627417C8B5C35BC195648DB: Machines.xlsx\n",
      "iAE463F1F1892457CBFD359D95D56DE22: Plants.csv\n",
      "iA5ABB135A98348818356F36EF4BE2FE3: Production Run Machine Output.xlsx\n",
      "iECE9273A34D74D5C9FF75496730A56EB: Production Run Machine Quality.csv\n",
      "i0929868258274E9EB6DD67E18FF3A155: Returned_items.xlsx\n",
      "iC7023B30BDD9455E849A1D651D56338F: Sales_rep.xlsx\n",
      "iC7FC413C2EB04E3E9C8B23B46FD42FD3: Production Run.xlsx\n",
      "i82F7AA7B1EEB4661ADF2D756D78EFA9F: Products.xlsx\n",
      "i980EA1FB845F4B0780A4E87DD0DDA88F: Quality.csv\n",
      "i0D0427445CDC41018D6B2BB25528D2E2: Shift.xlsx\n",
      "i0BDEEE36B47B4B37B424EEEEF0373BB3: Branch.xlsx\n",
      "i4D001F02E3F54C9482CA759F0DF0A906: Order.xlsx\n",
      "i7C87B92207F24FBE93D9995E4B3D4043: Order_method.xlsx\n",
      "iDC62823D5E3A4D3BBD553D546ECB5FD2: Time.xlsx\n",
      "i55A37A5CEB724F9D8216D94DE5006FD0: Time_close_date.xlsx\n",
      "i92495DB2BB794301AD6D0E2AF6877BEC: Time_shipped_date.xlsx\n",
      "i8BB543A22EF049A38D8E98886999D4DE: CustomerClaimAnalysis.xlsx\n",
      "i0822C39B282342358C9E0198C3B70366: CustomerChurn.xlsx\n",
      "i508E7642C7654BF68A788D8D9C0C595B: CustomerClaimAnalysis.xlsx\n",
      "i7657268B22D945E8806E0D81EF37159B: Cancellation_dates.csv\n",
      "iCE4F88C260CC4E01AAE0636F5F1CB2A8: Customer_loyalty_card_summary.csv\n",
      "i2571CC6A3CDE426C8334296A5013061D: Enrollment_dates.csv\n",
      "i92794D33C7234D9C810DDB0EAD0B356C: Loyalty_card_customers.csv\n",
      "iAB290748606B4FC4BC0437706525295C: Loyalty_card_segmentation_summary.csv\n",
      "i351219B471EF4765B5742AE4B73A7F7D: Month_name_lookup.xlsx\n",
      "i06ABFF67E47E476694F65C1D1481C231: CustomerChurn.xlsx\n",
      "iD74ED1C95238455D956E5661C05DE579: CustomerLoyaltyProgram.xlsx\n",
      "iE39484F487C14B2AA83773EA8A95D917: Boston_311_calls.xlsx\n",
      "i3AA59E70E98A46779D5AD13F4C4E8F81: Patient Survey Data - Healthcare.xlsx\n",
      "iE39023442F474BC9B67A8FF375359DCA: Patient NPS Data - Healthcare.xlsx\n",
      "i13926C6D173941A0A6CE9983EBAFF2EF: CoffeeCustomerLoyalty.csv\n",
      "i9C0BCDD9BF6245199ED393184A20DA4A: April_Sales5.zip\n",
      "iC0D05FD34786410E868085CE0A65D2A3: Table Occupancy.xls\n",
      "i25436C2E59F14F54A93D51934A9389BE: staff survey results.csv\n",
      "i5845592426664C5EBF1B33ECE4F284CA: Store stats.xlsx\n",
      "iC2187F332A1A46EB954FA5867838DBBA: store reopening.xlsx\n",
      "iCBED27C7CAE04BBD97C0CD82C2B11A51: july staff survey results.csv\n",
      "i6A0E25F63B674CD9A435DFB15C7741C6: store reopening.xlsx\n",
      "i06C056DAD6224A76A55A0FD5928C19A8: generations.csv\n",
      "iA2E1474C2394448F9A21F73D7912A091: dates.csv\n",
      "i675CD656ED144E40891244BF82ED3808: product.csv\n",
      "iF19FDD290F234C699F99D3E5A3881A9D: pastry inventory.csv\n",
      "i012AAE6A7D934E619CB060E1EDC20AA5: staff.csv\n",
      "iA50D1CD63C6141E4B08AD3FB0902ADA4: sales targets.csv\n",
      "iD9B2F7C81263459E9E0A5BF94C280BCF: sales outlet.csv\n",
      "i64F2085133834B19AEB8966E9D1C389C: customer.csv\n",
      "iD77F22E0A19040FEB6A64CA41B5EE581: sales reciepts.csv\n",
      "i77B8445269FD4F4C96C186DEE0016F50: IIoT_MongoDB.csv\n",
      "i4EB8C1347A0B4491BEA7C4CE6CD84E60: Trend_example.csv\n",
      "iF00581604C2540E08F05F8ACA4EB9FD8: Vibration Follow-Up.xlsx\n",
      "i9FE76B44219645B580945BA7FAED9D75: event_list.csv\n",
      "i8E1148858FD84F5983CC173310BDA4EA: report_data.xlsx\n",
      "iE2FB3CD444794C48ADC83BA102D17715: CA_store_data_en.xlsx\n",
      "iC4B4712B365A49E19304F2775A28538C: managment - الورقة1.csv\n",
      "i6E9ED6EB9F11482F9FF66CE276AEB391: Untitled spreadsheet.xlsx\n",
      "i2FF060C9404C46AD86D916D8F0B254A3: JPMorgan.xlsx\n",
      "i1266A0A951564008A8FC0EA67518074E: KSA Data.xlsx\n",
      "iB62A20564FB64A6C96E2F6FE2B6AD514: taylor_swift_spotify.csv\n",
      "i72D30FCB865849CF8C50F9F1799AD40A: Digital Marketing Campain.xlsx\n",
      "i672DC5F3C91B4C29845165AB3ED4C81C: GreatOutdoorData.xlsx\n",
      "iA1CFAD63326449DBA3B90CCABCEDA6ED: Egyptian_Data.xlsx\n",
      "iD1D12F7809B544459A02A88CFF51BD8A: GreatOutdoorData.xlsx\n",
      "i25A5E3ED0C7644C1901BF86BCDD857BF: CountrySummary.csv\n",
      "i15E2270A8CC347EDA8A156733F382186: GreatOutdoorData.xlsx\n",
      "iCEF7304B533B47A6BE15A21B52DF33ED: GreatOutdoorData (Alaa).xlsx\n",
      "i535F9E3957E84D5E8E59035E945C8FF4: GreatOutdoorData (1).xlsx\n",
      "i31A2055FC47D4B9AB1F5BBBE8F53D7DD: netflix.csv\n",
      "i4BDDE706A4894BCE8B613387ED0D2B07: GreatOutdoorData.xlsx\n",
      "i05BDCC16A9A44DCAA910AFAA32FF3A45: GreatOutdoorData.xlsx\n",
      "iD7429B70160B4317AFE3284F5FDCCC8C: GreatOutdoorData.xlsx\n",
      "iF7CA308EA8F04A579EFAC637C546260D: GreatOutdoorData.xlsx\n",
      "i84EF3147DC004829B704E52B61CC0873: GreatOutdoorData.xlsx\n",
      "iD599F55E4C334E4BA9FC665A82A3B660: GreatOutdoorData.xlsx\n",
      "iD0756209D25A4131B140651567638C52: GreatOutdoorData.xlsx (1)\n",
      "iF1C9E46DE3EA4C91B8F7A7643A8575A7: GreatOutdoorData.xlsx\n",
      "iE49D59AD35D949C990CA9FC8CE11AE91: CustomerChurn.xlsx\n",
      "iD07F34240AD3448294D356C366993123: GreatOutdoorData.xlsx\n",
      "i24D817A5D75641909DAD4EA45FE64FD5: GreatOutdoorData.xlsx\n",
      "i6D50F1D5EF7542EB9B6D359A3B4619B1: Egypt Governorates - locations data.xlsx\n",
      "i90643CF7AC1B4832A43AF7B65C638D84: GreatOutdoorData.xlsx\n",
      "i3685BCE9A0BF49D6A0202DB93FA079AC: German_Sample_Data.xlsx\n",
      "i9BB63E6B9BFA4F7ABBBB5158DD1FBA33: Credit risk.xlsx\n",
      "i927ED5E320FE4BEBA17173A7592F2631: German credit risk data set.csv\n",
      "i3B421174AE4F46529C09CE6E875473B6: German credit risk data set.xlsx\n",
      "i15EC0961BCF944208E4F44AD7A220D8A: excelexp.xlsx\n",
      "i8AD61575F932484BB77F6031508FC0B0: excelexp1.xlsx\n",
      "i32693160DAA443F7BBAE0B603C02407A: German credit risk data set.csv\n",
      "i678AADFA120049899B02E0818BBCF3DC: debi-fintech-bankruptcy-prediction.zip\n",
      "iF6773B9338F2407FB9FEE023ACC98C5E: archive (5).zip\n",
      "i2B453F2B6D6A4D278FA6E7249C26DF29: KAG_conversion_data.csv\n",
      "iF8C203AF36B64E42B9BF76DF7F6A4F32: KAG_conversion_data final.csv\n",
      "iDB0D89CE72C1419AA13D3964BA255BEF: HRDataset_.csv\n",
      "iC60CD7AC849048CC8A10BFE8769D49B4: Time_Perspective.xlsx\n",
      "i8A1FFE188905409B8B94A15E5DD5C98A: GregorianCalendar.csv\n",
      "iFC0E774089254ACFB7360A3E74E76B87: FiscalCalendar.csv\n",
      "iD5F3B8C9F00D427FA8960FB1742CD2EA: FiscalCalendarOctober1.csv\n",
      "iFF68EA094EFE4F0E85AE37C7E26C4939: retailCalendar_454_2016_2025.csv\n",
      "i94FA789A24FA4BC4B03B3551B372F7AF: FiscalCalendar.csv\n",
      "iC3C686C3D9604387A9A5D9AAF8153312: GregorianCalendar.csv\n",
      "i245FFCD3E3224602AF445897B49CBCAE: FiscalCalendarOctober1.csv\n",
      "iE62FFE23298B433C8CE1CBBA990599EC: FiscalCalendarJanuary1.csv\n",
      "i733162ADF73546D482033E5FDFB4121F: FiscalCalendarApril1.csv\n",
      "iCDD307E38E904E7AAF34272BA089694A: FiscalCalendarMarch1.csv\n",
      "i664B8CB477A241A3A22B0AF07AB5C281: FiscalCalendarJuly1.csv\n",
      "iC96831BC67F246E0B23F396632C55776: FiscalCalendarMay1.csv\n",
      "i4C2A8F99017E45A39D46ADF9B4F3AF2D: FiscalCalendarDecember1.csv\n",
      "iA303D9BDAF644069AAB63D650F1AF9B4: FiscalCalendarJune1.csv\n",
      "i5A77D313B3EC48828E9CF2137B5B92ED: FiscalCalendarNovember1.csv\n",
      "i8F6467CE1851487C9EC0A153492E87AF: FiscalCalendarSeptember1.csv\n",
      "i8DB2A0E3537A45059CDAEAD9EB283E07: FiscalCalendarFebruary1.csv\n",
      "i3964FFE0BFC74D0CBB83FA4BD865A73B: FiscalCalendarAugust1.csv\n",
      "i8360015C93E0438C9587E76F9147A950: retailCalendar_454_2016_2022.csv\n",
      "i56110318FBDC466DB92BECE7BE69F0AD: FiscalCalendarDecember1.csv\n",
      "i2A0ED9B32C584EFF88C040EB3E7769D4: FiscalCalendarSeptember1.csv\n",
      "i5452AB3959F44FC8BABB76ECD15E9B12: FiscalCalendarNovember1.csv\n",
      "i229E5E7543AB453992AE6CEED9C3AE0D: FiscalCalendarFebruary1.csv\n",
      "i25D985C8B43E4850981EEB0CC0D0137E: FiscalCalendarMarch1.csv\n",
      "i1186F7CF63DC4C599128A1E3706F8E34: FiscalCalendarApril1.csv\n",
      "i01CA040DD06146129B418300DABF1663: FiscalCalendarJune1.csv\n",
      "i9F0BC9ED3DF94AD499C962F83D968516: FiscalCalendarJuly1.csv\n",
      "i980A246A51A14F1BA4D4DD9E2FCFFF69: FiscalCalendarMay1.csv\n",
      "i663C5F6C7E2C4DB69C1C15298A253350: FiscalCalendarJanuary1.csv\n",
      "iE2FB4E974EEF4BD8A683F20FEBA40B4B: FiscalCalendarAugust1.csv\n",
      "i2C39E46BB3294B419CCDA48C2E5DACD3: ED_K12_Record.csv\n",
      "i741AB02FE86442AC9E15D4166AA6760F: AU_Bad_Sentiment.xlsx\n",
      "iE8E8AB603CD5417D98C21926781C3B8B: ED_Technology_Type.csv\n",
      "iB502C785ED1247C591843AD6DAE4FBEB: ED_Technology_Supply_Score.csv\n",
      "iEF51AFFED064439B9FB6446DC9ADD65F: GS_Banking_Loss_Events.xlsx\n",
      "iE364F6D93A0C4397A5126727F9C381F2: IN_Customer_Analysis.csv\n",
      "iBA763CAA65DC4CD1B80F3948ECF464EB: GS_California_Zip_Website_Visits.xlsx\n",
      "iCA2C8C3814664EF58D7CC71A6CB83071: IN_Customer_Analysis_Targets.xlsx\n",
      "i14EC91FA557348EF958D1B6664ACFA8D: IN_Customer_Analysis_Policy_Holders.xlsx\n",
      "iCC21422CFD0F40FEBCA63DE364CD2734: IN_Customer_Analysis_Renewals.xlsx\n",
      "iF4D359743E134152B849AE45921A2BC3: IN_Customer_Analysis_Offers.xlsx\n",
      "i7510D1BCB5DC403688566D030BD4E113: GO_Sample_File_Sales.xlsx\n",
      "iFCBA02E6788548DFB687F8F426445109: GO_Sales_Staff.xlsx\n",
      "iDF4BFAC4F5AF48F3A82DE7415EE9A47C: GO_Sales_CY_and_PY.xlsx\n",
      "iBA4DB3B78B0C4244AB712F91BBA6495F: GO_Sales_by_Year_and_Month.xlsx\n",
      "i1B3374FA2E6945669642D987EFBAB2A1: Telco_customer_churn_demographics.xlsx\n",
      "iB21B699E55B64A7A9173D023A72E41DE: Telco_customer_churn_population.xlsx\n",
      "iDB7729DA7AED4E46AEA6C6F60212433F: Telco_customer_churn_services.xlsx\n",
      "i469B8291AD224B6EAF18E17829F8EA67: Telco_customer_churn_location.xlsx\n",
      "i70D1194697C74009AB8515150C21EDC6: Telco_customer_churn_status.xlsx\n",
      "i5588D727708E403D8680A7F8E6F421F1: Coffee_sales.zip\n",
      "i790F90F38D83467AB3525D3B4F10CB39: Call_Center.zip\n",
      "iB87BE688A83C49D89B6B83A650A659FE: ED_Enrollment.xlsx\n",
      "iEB324A36912B4ECEB065C3C6878924DD: ED_KPI_Attendance.xlsx\n",
      "i4204C338FBB54496B4572EE167AB129F: ED_KPI_Enrollment.xlsx\n",
      "iF72FA91EB117403DBF07264E29AC2ECF: ED_KPI_Data.xlsx\n",
      "iB0E47BD3CC96443C841E5380A8282BE3: ED_KPI_Teacher.xlsx\n",
      "i693E55A9F33E4A00A743980F4AA5872A: ED_Staff.csv\n",
      "i58F98A8206F64AF594854DAABA3EC488: GO_Branches.xlsx\n",
      "i3A7339D156704194A5614890911043E9: GO_Orders.xlsx\n",
      "iC869B2A9AF3B4B3B8CB27670D7A9075F: GO_Order_Methods.xlsx\n",
      "iC915739B76104EDD9A7E9C2B1F7AE8FA: GO_Products.xlsx\n",
      "iACDD12C30406404EB0F0F689A9C6E6E3: GO_Retailer_Type.xlsx\n",
      "i5A1571E289704C49BBAB95E94DA7F72F: GO_Retailers.xlsx\n",
      "i43516B2D80344D3A86E392FBD987A996: GO_Returned_Items.xlsx\n",
      "i0099DC15053B4997B2721FB13CF85E6B: GO_Sales.xlsx\n",
      "i34B4EE4DC6764CF0AB6A645F1E3A8DBE: GO_Sales_Rep.xlsx\n",
      "iC8FC4A62361446ABAA6DD2203EBF66D1: GO_Time.xlsx\n",
      "i3E9151EE777145D7871B5B28C01E80D6: GO_Time_Close_Date.xlsx\n",
      "i11FF8ABF4B8A4C9DA4C1D88D6EA6EBAD: GO_Time_Shipped_Date.xlsx\n",
      "i833C196563C345F8AD5064D43399B9C3: GO_Sample_Extensions_Data.xlsx\n",
      "i9AA5D9A3A97645388514AFB3CF74A45F: GS_Website_Visits_USA_Regions.xlsx\n",
      "iAEBBD1B764F44B88B15D27E6B767142F: AU_Daily_Sales.xlsx\n",
      "i2D037A818A00461895ABD27DDB9861D0: HC_Hospital_Admissions.xlsx\n",
      "i17CB565F52FC47F9AC53644A7E12AC8B: ED_Demographics.csv\n",
      "iA111C778C71645C19ED6FA29CF84E3B8: ED_Students.csv\n",
      "i623A7C0F6CF54BC1831895F8322AFC09: TT_Loyalty_Cancellation_Dates.csv\n",
      "iB1D484EF7AD7443C895750382B30689B: TT_Loyalty_Card_Summary.csv\n",
      "i2177C8FC511D41D2B2578A71C7D3685B: TT_Loyalty_Enrollment_Dates.csv\n",
      "iC85CAB1EAFCB45EDAEE93528FBE16ADD: TT_Loyalty_Card_Customers.csv\n",
      "i5C7473BC3C824011A904927F067BE98F: TT_Loyalty_Card_Segmentation_Summary.csv\n",
      "i843D796D455C431FB7780FE3E8DEBF73: TT_Loyalty_Month_Name_Lookup.xlsx\n",
      "iED695CE97C0B4CB1B5F46B5661ECD8FE: BA_Incentive_Compensation_Management_Conduct_Risk.xlsx\n",
      "i403B5E0550F74D3A8F9D6AE3C54A7A9C: AU_Car_Models.xlsx\n",
      "i9C6BFCF1E4ED45CA8BE63F946CEE2B04: IM_Machine_Events.xlsx\n",
      "iB0AC0D2D99914DDBB05C260228962B4C: IM_Machine_States.xlsx\n",
      "i6F1132288E49441987A4E816658C98ED: IM_Machines.xlsx\n",
      "i75D92DA8407741A3A47C94B89DD836C3: IM_Plants.csv\n",
      "iA5AD0958969843DA931068DF3BCC7E07: IM_Production_Run_Machine_Output.xlsx\n",
      "i2E3D32C220294E8FB9D0A3CC9C3586EC: IM_Production_Run_Machine_Quality.csv\n",
      "iDF4849A0DD3741109AE5F9360267C6D5: IM_Production_Run.xlsx\n",
      "i2EFDA9525DDD4CD9809E541CF9D33365: IM_Products.xlsx\n",
      "i05AA6AF8E86142C0BD9BDE0EE836FAC8: IM_Quality.csv\n",
      "iC5DB35A4B5F74DA092BA3C37BE8EF86C: IM_Shift.xlsx\n",
      "i4A5E91070A0642DA8E5473975F73EA45: AU_Car_Recalls.xlsx\n",
      "iD42842B417AE4500B0C8CE729C6E1043: AU_Dealers.xlsx\n",
      "iC84DE14397F84321AFCF8F94FA09A4F4: AU_Sentiment.csv\n",
      "iC2E1164E53C54C598B17E6C4125C91EE: AU_Sales_By_Model.xlsx\n",
      "i3BFDB76AC09A4267B4FEBA8D90FC19BF: ED_Classes.csv\n",
      "i5363672A860E4AC99F7FF7ADB631FE33: ED_Class_Roster.csv\n",
      "i4B599105ED9F41E48D158E24F0EDA3B8: ED_Student_Absenses.csv\n",
      "iEAB077CB5CC84362B0D0BDCD63DE3CBE: ED_Courses.csv\n",
      "i3648103B5FB54FA4BF176070DC689766: ED_Schools.csv\n",
      "i7B51D55C6B344A3AAE2287D0D362FB23: ED_Role.csv\n",
      "i9399999822714C138E78B9AFBD63C782: ED_Final_Grades.csv\n",
      "i2A164FA719C84842B2AC1A3ECC899C1C: PS_d_Contacts.csv\n",
      "i64EC1199EED04FA7A51049BD557D941F: PS_d_Projects.csv\n",
      "i61E590EDE31849EB8CA20EB0AB9C55B1: PS_f_Employee_Timesheet.csv\n",
      "i1B467F92A2D84B96BD6BAE9B4AE6E86B: PS_f_Expenses_Ledger.csv\n",
      "i894C23A9268247158A70CDD40805251B: StockMarket_1990_2019_Measures_as_1column.xlsx\n",
      "i6F6CF2A8D2F141989F4AB6DC79ABA083: PS_f_Revenue_Ledger.csv\n",
      "iE5168EAB9239412DA1F8020A36A160D1: PS_f_Budget.csv\n",
      "i7C9F7BFC09424A0BBD49452EF5489647: PS_d_Employees.csv\n",
      "iA4C4AE6C594041D7A384BBD13C6D69BC: StockMarket_1990_2019_Measures_as_columns.xlsx\n",
      "i4E50F0E0B09C41A890252942603AC409: PS_d_Chart_of_Accounts.csv\n",
      "i264D7FC5C96D426987A0393AFC33E187: PS_d_Dates.csv\n"
     ]
    }
   ],
   "source": [
    "if response.status_code == 200:\n",
    "\tfilesList = json.loads( response.text )['files']\n",
    "\tprint(f'{len(filesList)} files found.')\n",
    "\t\n",
    "\tfor file in filesList:\n",
    "\t\tprint(f\"{file.get('id')}: {file.get('defaultName')}\")\n",
    "\n",
    "#print(json.dumps( filesList, sort_keys=True, indent=4))"
   ]
  }
 ],
 "metadata": {
  "kernelspec": {
   "display_name": "Python 3",
   "language": "python",
   "name": "python3"
  },
  "language_info": {
   "codemirror_mode": {
    "name": "ipython",
    "version": 3
   },
   "file_extension": ".py",
   "mimetype": "text/x-python",
   "name": "python",
   "nbconvert_exporter": "python",
   "pygments_lexer": "ipython3",
   "version": "3.12.1"
  },
  "orig_nbformat": 4,
  "vscode": {
   "interpreter": {
    "hash": "5238573367df39f7286bb46f9ff5f08f63a01a80960060ce41e3c79b190280fa"
   }
  }
 },
 "nbformat": 4,
 "nbformat_minor": 2
}
