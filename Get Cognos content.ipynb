{
 "cells": [
  {
   "attachments": {},
   "cell_type": "markdown",
   "metadata": {},
   "source": [
    "# Cognos Analytics REST API - Get files\n",
    "## References\n",
    "* [Session objects](https://requests.readthedocs.io/en/latest/user/advanced/#session-objects)\n",
    "* [Getting started with the REST API](https://www.ibm.com/docs/en/cognos-analytics/12.0.0?topic=api-getting-started-rest) - Cognos Analytics Docs\n",
    "* [REST sample](https://www.ibm.com/docs/en/cognos-analytics/12.0.0?topic=api-rest-sample) - Cognos Analytics Docs\n",
    "\n",
    "## Required packages\n",
    "!pip install requests"
   ]
  },
  {
   "cell_type": "code",
   "execution_count": 20,
   "metadata": {},
   "outputs": [],
   "source": [
    "import json\n",
    "import requests"
   ]
  },
  {
   "attachments": {},
   "cell_type": "markdown",
   "metadata": {},
   "source": [
    "Base URL of the Cognos Analytics server"
   ]
  },
  {
   "cell_type": "code",
   "execution_count": 21,
   "metadata": {},
   "outputs": [],
   "source": [
    "api_url = 'http://eu-de.techzone-services.com:21298/api/v1'"
   ]
  },
  {
   "cell_type": "markdown",
   "metadata": {},
   "source": [
    "Login to the server and get a session"
   ]
  },
  {
   "cell_type": "code",
   "execution_count": 22,
   "metadata": {},
   "outputs": [],
   "source": [
    "# Read the parameters file\n",
    "with open('Parameters.json') as file:\n",
    "\tpayload = file.read()\n",
    "#\tprint( json.loads(parameters) )\n",
    "\n",
    "# Persist cookies accross sessions\n",
    "session = requests.Session()\n",
    "session.headers['Content-Type'] = 'application/json'\n",
    "\n",
    "response = session.put(f'{api_url}/session', data=payload )"
   ]
  },
  {
   "cell_type": "markdown",
   "metadata": {},
   "source": [
    "If session creation is successful, keep the `session_key` in the `IBM-BA-Authorization` header:"
   ]
  },
  {
   "cell_type": "code",
   "execution_count": 27,
   "metadata": {},
   "outputs": [],
   "source": [
    "if response.status_code == 201:\n",
    "\tsession.headers['IBM-BA-Authorization'] = response.json().get('session_key')\n",
    "else:\n",
    "\tprint('Failed to create a session.')"
   ]
  },
  {
   "cell_type": "markdown",
   "metadata": {},
   "source": [
    "Query the content"
   ]
  },
  {
   "cell_type": "code",
   "execution_count": 30,
   "metadata": {},
   "outputs": [
    {
     "name": "stdout",
     "output_type": "stream",
     "text": [
      "iD60783DD46A447F98F49AB413C60EB6D (folder): Get started\n",
      "iA6F7BA52F9D1419091703D8636063DBE (folder): Samples\n",
      "iEAAF1C91E80C4173A6A11DAFFD09E13A (folder): Templates\n",
      "iA8C69DB3CB5B4C278F07CE72A897BDD3 (folder): Calendars\n",
      "i3948C450960A4569B855ABD4F8F5D089 (folder): Samples_Audit\n",
      "i1A4D57C906D14AB4B4F1FD1CA7B2B2A0 (folder): Field Assets\n",
      "i2F5CEA0D54D24ACF87596B53D1F9C9BA (folder): Training\n",
      "i603BC1F6664E49BA8CF1CFCA95CD3DA4 (package): SustainabilityTelco\n",
      "i716781F262EB40188E46AC45CF66CE6A (folder): The Weather Company, an IBM Business\n",
      "i1163D849D5C6467DB95A154E624236A9 (folder): CA Mobile\n"
     ]
    }
   ],
   "source": [
    "response = session.get(f'{api_url}/content/team_folders/items' )\n",
    "\n",
    "if response.status_code == 200:\n",
    "\tentries = response.json()['content']\n",
    "\tfor entry in entries:\n",
    "\t\tentry = dict(entry)\n",
    "#\t\tprint(entry)\n",
    "\t\tprint( f\"{entry.get('id')} ({entry.get('type')}): {entry.get('defaultName')}\" )\n",
    "else:\n",
    "\tprint( response.status_code )\n",
    "\tprint( response.reason )\n",
    "\tprint( response.text )"
   ]
  }
 ],
 "metadata": {
  "kernelspec": {
   "display_name": "Python 3",
   "language": "python",
   "name": "python3"
  },
  "language_info": {
   "codemirror_mode": {
    "name": "ipython",
    "version": 3
   },
   "file_extension": ".py",
   "mimetype": "text/x-python",
   "name": "python",
   "nbconvert_exporter": "python",
   "pygments_lexer": "ipython3",
   "version": "3.12.1"
  },
  "orig_nbformat": 4,
  "vscode": {
   "interpreter": {
    "hash": "5238573367df39f7286bb46f9ff5f08f63a01a80960060ce41e3c79b190280fa"
   }
  }
 },
 "nbformat": 4,
 "nbformat_minor": 2
}
