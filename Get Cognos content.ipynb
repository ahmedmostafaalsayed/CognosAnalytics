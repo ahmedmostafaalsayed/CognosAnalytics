{
 "cells": [
  {
   "attachments": {},
   "cell_type": "markdown",
   "metadata": {},
   "source": [
    "# Cognos Analytics REST API - Get files\n",
    "## References\n",
    "* [Session objects](https://requests.readthedocs.io/en/latest/user/advanced/#session-objects)\n",
    "* [Getting started with the REST API](https://www.ibm.com/docs/en/cognos-analytics/12.0.0?topic=api-getting-started-rest) - Cognos Analytics Docs\n",
    "* [REST sample](https://www.ibm.com/docs/en/cognos-analytics/12.0.0?topic=api-rest-sample) - Cognos Analytics Docs\n",
    "\n",
    "## Required packages\n",
    "!pip install requests"
   ]
  },
  {
   "cell_type": "code",
   "execution_count": 1,
   "metadata": {},
   "outputs": [],
   "source": [
    "import json\n",
    "import requests"
   ]
  },
  {
   "attachments": {},
   "cell_type": "markdown",
   "metadata": {},
   "source": [
    "Base URL of the Cognos Analytics server"
   ]
  },
  {
   "cell_type": "code",
   "execution_count": 4,
   "metadata": {},
   "outputs": [],
   "source": [
    "api_url = 'http://eu-de.techzone-services.com:21298/api/v1'"
   ]
  },
  {
   "cell_type": "markdown",
   "metadata": {},
   "source": [
    "Login to the server and get a session"
   ]
  },
  {
   "cell_type": "code",
   "execution_count": 62,
   "metadata": {},
   "outputs": [
    {
     "name": "stdout",
     "output_type": "stream",
     "text": [
      "201\n",
      "Created\n",
      "{\"generation\":3,\"shareable\":true,\"isAnonymous\":false,\"cafContextId\":\"CAFW000000a0Q0FGQTYwMDAwMDAwMDlBaFFBQUFBOVUqYTNpSFR2aXcxRXBqcncyRjE4b3VkTXF3Y0FBQUJUU0VFdE1qVTJJQUFBQUVpZ3dJOGN4ZktpRUFKSzNlOGtrTVNTTU5oTzVaOENmdzdQbUFhaHZCcVc0NzI5Nzd8cnM_\",\"logEnabled\":false,\"canCallLogon\":false,\"url\":\"/api/v1\",\"session_key\":\"CAM MTsxMDE6YmMwZDNjOTMtODlmNy1kZjE0LWY0NzktNmYxNTU5YmQ3MTZkOjM2OTk0NzM3MzY7MDszOzA7\"}\n"
     ]
    }
   ],
   "source": [
    "# Read the parameters file\n",
    "with open('Parameters.json') as file:\n",
    "\tpayload = file.read()\n",
    "#\tprint( json.loads(parameters) )\n",
    "\n",
    "# Persist cookies accross sessions\n",
    "session = requests.Session()\n",
    "session.headers['Content-Type'] = 'application/json'\n",
    "\n",
    "response = session.put(f'{api_url}/session', data=payload )\n",
    "print( response.status_code )\n",
    "print( response.reason )\n",
    "print( response.text )\n"
   ]
  },
  {
   "cell_type": "markdown",
   "metadata": {},
   "source": [
    "If session creation is successful, keep the `session_key` in the headers:"
   ]
  },
  {
   "cell_type": "code",
   "execution_count": 63,
   "metadata": {},
   "outputs": [
    {
     "name": "stdout",
     "output_type": "stream",
     "text": [
      "{'User-Agent': 'python-requests/2.31.0', 'Accept-Encoding': 'gzip, deflate', 'Accept': '*/*', 'Connection': 'keep-alive', 'Content-Type': 'application/json', 'session_key': 'CAM MTsxMDE6YmMwZDNjOTMtODlmNy1kZjE0LWY0NzktNmYxNTU5YmQ3MTZkOjM2OTk0NzM3MzY7MDszOzA7'}\n"
     ]
    }
   ],
   "source": [
    "if response.status_code == 201:\n",
    "\tsession.headers['session_key'] = response.json().get('session_key')\n",
    "\n",
    "print( session.headers )"
   ]
  },
  {
   "cell_type": "code",
   "execution_count": 77,
   "metadata": {},
   "outputs": [
    {
     "name": "stdout",
     "output_type": "stream",
     "text": [
      "{'defaultName': 'Team Folders', 'id': 'team_folders', 'type': 'folder', 'links': [{'rel': 'self', 'type': 'application/json', 'href': '/api/v1/content/team_folders'}, {'rel': 'items', 'type': 'application/json', 'href': '/api/v1/content/team_folders/items'}]}\n",
      "{'defaultName': 'My Folders', 'id': 'my_folders', 'type': 'folder', 'links': [{'rel': 'self', 'type': 'application/json', 'href': '/api/v1/content/my_folders'}, {'rel': 'items', 'type': 'application/json', 'href': '/api/v1/content/my_folders/items'}]}\n",
      "{'defaultName': 'Library', 'id': 'library', 'type': 'folder', 'links': [{'rel': 'self', 'type': 'application/json', 'href': '/api/v1/content/library'}, {'rel': 'items', 'type': 'application/json', 'href': '/api/v1/content/library/items'}]}\n"
     ]
    }
   ],
   "source": [
    "response = session.get(f'{api_url}/content' )\n",
    "if response.status_code == 200:\n",
    "\tentries = json.loads( response.text )['content']\n",
    "\tfor entry in entries:\n",
    "\t\tprint( entry )\n",
    "else:\n",
    "\tprint( response.status_code )\n",
    "\tprint( response.reason )\n",
    "\tprint( response.text )"
   ]
  },
  {
   "cell_type": "code",
   "execution_count": 83,
   "metadata": {},
   "outputs": [
    {
     "name": "stdout",
     "output_type": "stream",
     "text": [
      "First request:\n",
      "200\n",
      "{\"content\":[{\"defaultName\":\"Team Folders\",\"id\":\"team_folders\",\"type\":\"folder\",\"links\":[{\"rel\":\"self\",\"type\":\"application/json\",\"href\":\"/api/v1/content/team_folders\"},{\"rel\":\"items\",\"type\":\"application/json\",\"href\":\"/api/v1/content/team_folders/items\"}]},{\"defaultName\":\"My Folders\",\"id\":\"my_folders\",\"type\":\"folder\",\"links\":[{\"rel\":\"self\",\"type\":\"application/json\",\"href\":\"/api/v1/content/my_folders\"},{\"rel\":\"items\",\"type\":\"application/json\",\"href\":\"/api/v1/content/my_folders/items\"}]},{\"defaultName\":\"Library\",\"id\":\"library\",\"type\":\"folder\",\"links\":[{\"rel\":\"self\",\"type\":\"application/json\",\"href\":\"/api/v1/content/library\"},{\"rel\":\"items\",\"type\":\"application/json\",\"href\":\"/api/v1/content/library/items\"}]}]}\n",
      "OK\n",
      "Second request:\n",
      "400\n",
      "Invalid id format.'.public_folders'\n",
      "Bad Request\n"
     ]
    }
   ],
   "source": [
    "print('First request:')\n",
    "response = session.get(f'{api_url}/content' )\n",
    "print(response.status_code)\n",
    "print(response.text)\n",
    "print(response.reason)\n",
    "\n",
    "print('Second request:')\n",
    "response = session.get(f'{api_url}/content/team_folders/items' )\n",
    "print(response.status_code)\n",
    "print(response.text)\n",
    "print(response.reason)"
   ]
  }
 ],
 "metadata": {
  "kernelspec": {
   "display_name": "Python 3",
   "language": "python",
   "name": "python3"
  },
  "language_info": {
   "codemirror_mode": {
    "name": "ipython",
    "version": 3
   },
   "file_extension": ".py",
   "mimetype": "text/x-python",
   "name": "python",
   "nbconvert_exporter": "python",
   "pygments_lexer": "ipython3",
   "version": "3.12.1"
  },
  "orig_nbformat": 4,
  "vscode": {
   "interpreter": {
    "hash": "5238573367df39f7286bb46f9ff5f08f63a01a80960060ce41e3c79b190280fa"
   }
  }
 },
 "nbformat": 4,
 "nbformat_minor": 2
}
